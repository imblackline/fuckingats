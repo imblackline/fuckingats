{
 "cells": [
  {
   "cell_type": "code",
   "execution_count": 26,
   "metadata": {},
   "outputs": [],
   "source": [
    "import spacy\n",
    "import pandas as pd\n",
    "from rake_nltk import Rake\n",
    "from sklearn.feature_extraction.text import TfidfVectorizer\n",
    "import re\n",
    "import nltk\n",
    "from nltk.corpus import stopwords"
   ]
  },
  {
   "cell_type": "code",
   "execution_count": 41,
   "metadata": {},
   "outputs": [],
   "source": [
    "# Load your job descriptions\n",
    "data = \"\"\"Degree in Computer Science, Computer Engineering, Mathematics, Physics or similar\n",
    "Good knowledge of at least one of the following languages: Python, C#, Java\n",
    "6/12 months of experience as a SW Developer in a multinational and modernly organised company or in consultancy activities is welcome\n",
    "Good knowledge of SQL\n",
    "Excellent knowledge of the Italian language and good knowledge of the English language\n",
    "Interest in learning new technologies and development methodologies.\n",
    "Strong problem solving orientation, with analytical skills and an aptitude for effective communication.\n",
    "Curiosity and proactivity complete the profile\n",
    "Knowledge of Microsoft Azure Ecosystem is appreciated\n",
    "Knowledge of REST and SOAP APIs is appreciated\n",
    "Knowledge of code communication (message broker) is appreciated\n",
    "Knowledge of microservices architecture principles is appreciated\n",
    "Knowledge of Salesforce and APEX and Visualforce languages ​​is appreciated\"\"\"\n",
    "\n",
    "df = pd.DataFrame({'job_description': [data]})"
   ]
  },
  {
   "cell_type": "code",
   "execution_count": 42,
   "metadata": {},
   "outputs": [],
   "source": [
    "def preprocess(text):\n",
    "    # Remove special characters and lowercase\n",
    "    text = re.sub(r'[^\\w\\s]', '', text.lower())\n",
    "    return text\n",
    "\n",
    "df['cleaned'] = df['job_description'].apply(preprocess)\n"
   ]
  },
  {
   "cell_type": "code",
   "execution_count": 43,
   "metadata": {},
   "outputs": [],
   "source": [
    "rake = Rake()\n",
    "\n",
    "def extract_keywords_rake(text):\n",
    "    rake.extract_keywords_from_text(text)\n",
    "    return rake.get_ranked_phrases()\n",
    "\n",
    "df['rake_keywords'] = df['cleaned'].apply(extract_keywords_rake)\n"
   ]
  },
  {
   "cell_type": "code",
   "execution_count": 44,
   "metadata": {},
   "outputs": [
    {
     "data": {
      "text/html": [
       "<div>\n",
       "<style scoped>\n",
       "    .dataframe tbody tr th:only-of-type {\n",
       "        vertical-align: middle;\n",
       "    }\n",
       "\n",
       "    .dataframe tbody tr th {\n",
       "        vertical-align: top;\n",
       "    }\n",
       "\n",
       "    .dataframe thead th {\n",
       "        text-align: right;\n",
       "    }\n",
       "</style>\n",
       "<table border=\"1\" class=\"dataframe\">\n",
       "  <thead>\n",
       "    <tr style=\"text-align: right;\">\n",
       "      <th></th>\n",
       "      <th>job_description</th>\n",
       "      <th>cleaned</th>\n",
       "      <th>rake_keywords</th>\n",
       "    </tr>\n",
       "  </thead>\n",
       "  <tbody>\n",
       "    <tr>\n",
       "      <th>0</th>\n",
       "      <td>Degree in Computer Science, Computer Engineeri...</td>\n",
       "      <td>degree in computer science computer engineerin...</td>\n",
       "      <td>[following languages python c java 612 months,...</td>\n",
       "    </tr>\n",
       "  </tbody>\n",
       "</table>\n",
       "</div>"
      ],
      "text/plain": [
       "                                     job_description  \\\n",
       "0  Degree in Computer Science, Computer Engineeri...   \n",
       "\n",
       "                                             cleaned  \\\n",
       "0  degree in computer science computer engineerin...   \n",
       "\n",
       "                                       rake_keywords  \n",
       "0  [following languages python c java 612 months,...  "
      ]
     },
     "execution_count": 44,
     "metadata": {},
     "output_type": "execute_result"
    }
   ],
   "source": [
    "df"
   ]
  },
  {
   "cell_type": "code",
   "execution_count": 45,
   "metadata": {},
   "outputs": [],
   "source": [
    "vectorizer = TfidfVectorizer(max_features=10)\n",
    "tfidf_matrix = vectorizer.fit_transform(df['cleaned'])\n",
    "tfidf_keywords = vectorizer.get_feature_names_out()\n",
    "\n",
    "df['tfidf_keywords'] = [tfidf_keywords for _ in range(len(df))]\n"
   ]
  },
  {
   "cell_type": "code",
   "execution_count": 46,
   "metadata": {},
   "outputs": [],
   "source": [
    "nlp = spacy.load(\"en_core_web_sm\")\n",
    "\n",
    "def extract_spacy_entities(text):\n",
    "    doc = nlp(text)\n",
    "    return [(ent.text, ent.label_) for ent in doc.ents]\n",
    "\n",
    "df['spacy_entities'] = df['job_description'].apply(extract_spacy_entities)\n"
   ]
  },
  {
   "cell_type": "code",
   "execution_count": 47,
   "metadata": {},
   "outputs": [
    {
     "data": {
      "text/html": [
       "<div>\n",
       "<style scoped>\n",
       "    .dataframe tbody tr th:only-of-type {\n",
       "        vertical-align: middle;\n",
       "    }\n",
       "\n",
       "    .dataframe tbody tr th {\n",
       "        vertical-align: top;\n",
       "    }\n",
       "\n",
       "    .dataframe thead th {\n",
       "        text-align: right;\n",
       "    }\n",
       "</style>\n",
       "<table border=\"1\" class=\"dataframe\">\n",
       "  <thead>\n",
       "    <tr style=\"text-align: right;\">\n",
       "      <th></th>\n",
       "      <th>job_description</th>\n",
       "      <th>cleaned</th>\n",
       "      <th>rake_keywords</th>\n",
       "      <th>tfidf_keywords</th>\n",
       "      <th>spacy_entities</th>\n",
       "    </tr>\n",
       "  </thead>\n",
       "  <tbody>\n",
       "    <tr>\n",
       "      <th>0</th>\n",
       "      <td>Degree in Computer Science, Computer Engineeri...</td>\n",
       "      <td>degree in computer science computer engineerin...</td>\n",
       "      <td>[following languages python c java 612 months,...</td>\n",
       "      <td>[and, appreciated, good, in, is, knowledge, la...</td>\n",
       "      <td>[(Computer Science, Computer Engineering, ORG)...</td>\n",
       "    </tr>\n",
       "  </tbody>\n",
       "</table>\n",
       "</div>"
      ],
      "text/plain": [
       "                                     job_description  \\\n",
       "0  Degree in Computer Science, Computer Engineeri...   \n",
       "\n",
       "                                             cleaned  \\\n",
       "0  degree in computer science computer engineerin...   \n",
       "\n",
       "                                       rake_keywords  \\\n",
       "0  [following languages python c java 612 months,...   \n",
       "\n",
       "                                      tfidf_keywords  \\\n",
       "0  [and, appreciated, good, in, is, knowledge, la...   \n",
       "\n",
       "                                      spacy_entities  \n",
       "0  [(Computer Science, Computer Engineering, ORG)...  "
      ]
     },
     "execution_count": 47,
     "metadata": {},
     "output_type": "execute_result"
    }
   ],
   "source": [
    "df"
   ]
  },
  {
   "cell_type": "code",
   "execution_count": 48,
   "metadata": {},
   "outputs": [
    {
     "name": "stdout",
     "output_type": "stream",
     "text": [
      "Defaulting to user installation because normal site-packages is not writeable\n",
      "Requirement already satisfied: torch in c:\\users\\blackline\\appdata\\local\\packages\\pythonsoftwarefoundation.python.3.12_qbz5n2kfra8p0\\localcache\\local-packages\\python312\\site-packages (2.5.1+cu118)\n",
      "Requirement already satisfied: filelock in c:\\users\\blackline\\appdata\\local\\packages\\pythonsoftwarefoundation.python.3.12_qbz5n2kfra8p0\\localcache\\local-packages\\python312\\site-packages (from torch) (3.16.1)\n",
      "Requirement already satisfied: typing-extensions>=4.8.0 in c:\\users\\blackline\\appdata\\local\\packages\\pythonsoftwarefoundation.python.3.12_qbz5n2kfra8p0\\localcache\\local-packages\\python312\\site-packages (from torch) (4.12.2)\n",
      "Requirement already satisfied: networkx in c:\\users\\blackline\\appdata\\local\\packages\\pythonsoftwarefoundation.python.3.12_qbz5n2kfra8p0\\localcache\\local-packages\\python312\\site-packages (from torch) (3.4.2)\n",
      "Requirement already satisfied: jinja2 in c:\\users\\blackline\\appdata\\local\\packages\\pythonsoftwarefoundation.python.3.12_qbz5n2kfra8p0\\localcache\\local-packages\\python312\\site-packages (from torch) (3.1.5)\n",
      "Requirement already satisfied: fsspec in c:\\users\\blackline\\appdata\\local\\packages\\pythonsoftwarefoundation.python.3.12_qbz5n2kfra8p0\\localcache\\local-packages\\python312\\site-packages (from torch) (2024.9.0)\n",
      "Requirement already satisfied: setuptools in c:\\users\\blackline\\appdata\\local\\packages\\pythonsoftwarefoundation.python.3.12_qbz5n2kfra8p0\\localcache\\local-packages\\python312\\site-packages (from torch) (75.6.0)\n",
      "Requirement already satisfied: sympy==1.13.1 in c:\\users\\blackline\\appdata\\local\\packages\\pythonsoftwarefoundation.python.3.12_qbz5n2kfra8p0\\localcache\\local-packages\\python312\\site-packages (from torch) (1.13.1)\n",
      "Requirement already satisfied: mpmath<1.4,>=1.1.0 in c:\\users\\blackline\\appdata\\local\\packages\\pythonsoftwarefoundation.python.3.12_qbz5n2kfra8p0\\localcache\\local-packages\\python312\\site-packages (from sympy==1.13.1->torch) (1.3.0)\n",
      "Requirement already satisfied: MarkupSafe>=2.0 in c:\\users\\blackline\\appdata\\local\\packages\\pythonsoftwarefoundation.python.3.12_qbz5n2kfra8p0\\localcache\\local-packages\\python312\\site-packages (from jinja2->torch) (3.0.2)\n",
      "Note: you may need to restart the kernel to use updated packages.\n",
      "Defaulting to user installation because normal site-packages is not writeable\n",
      "Requirement already satisfied: transformers in c:\\users\\blackline\\appdata\\local\\packages\\pythonsoftwarefoundation.python.3.12_qbz5n2kfra8p0\\localcache\\local-packages\\python312\\site-packages (4.47.1)\n",
      "Requirement already satisfied: filelock in c:\\users\\blackline\\appdata\\local\\packages\\pythonsoftwarefoundation.python.3.12_qbz5n2kfra8p0\\localcache\\local-packages\\python312\\site-packages (from transformers) (3.16.1)\n",
      "Requirement already satisfied: huggingface-hub<1.0,>=0.24.0 in c:\\users\\blackline\\appdata\\local\\packages\\pythonsoftwarefoundation.python.3.12_qbz5n2kfra8p0\\localcache\\local-packages\\python312\\site-packages (from transformers) (0.27.0)\n",
      "Requirement already satisfied: numpy>=1.17 in c:\\users\\blackline\\appdata\\local\\packages\\pythonsoftwarefoundation.python.3.12_qbz5n2kfra8p0\\localcache\\local-packages\\python312\\site-packages (from transformers) (2.2.1)\n",
      "Requirement already satisfied: packaging>=20.0 in c:\\users\\blackline\\appdata\\local\\packages\\pythonsoftwarefoundation.python.3.12_qbz5n2kfra8p0\\localcache\\local-packages\\python312\\site-packages (from transformers) (24.2)\n",
      "Requirement already satisfied: pyyaml>=5.1 in c:\\users\\blackline\\appdata\\local\\packages\\pythonsoftwarefoundation.python.3.12_qbz5n2kfra8p0\\localcache\\local-packages\\python312\\site-packages (from transformers) (6.0.2)\n",
      "Requirement already satisfied: regex!=2019.12.17 in c:\\users\\blackline\\appdata\\local\\packages\\pythonsoftwarefoundation.python.3.12_qbz5n2kfra8p0\\localcache\\local-packages\\python312\\site-packages (from transformers) (2024.11.6)\n",
      "Requirement already satisfied: requests in c:\\users\\blackline\\appdata\\local\\packages\\pythonsoftwarefoundation.python.3.12_qbz5n2kfra8p0\\localcache\\local-packages\\python312\\site-packages (from transformers) (2.32.3)\n",
      "Requirement already satisfied: tokenizers<0.22,>=0.21 in c:\\users\\blackline\\appdata\\local\\packages\\pythonsoftwarefoundation.python.3.12_qbz5n2kfra8p0\\localcache\\local-packages\\python312\\site-packages (from transformers) (0.21.0)\n",
      "Requirement already satisfied: safetensors>=0.4.1 in c:\\users\\blackline\\appdata\\local\\packages\\pythonsoftwarefoundation.python.3.12_qbz5n2kfra8p0\\localcache\\local-packages\\python312\\site-packages (from transformers) (0.4.5)\n",
      "Requirement already satisfied: tqdm>=4.27 in c:\\users\\blackline\\appdata\\local\\packages\\pythonsoftwarefoundation.python.3.12_qbz5n2kfra8p0\\localcache\\local-packages\\python312\\site-packages (from transformers) (4.67.1)\n",
      "Requirement already satisfied: fsspec>=2023.5.0 in c:\\users\\blackline\\appdata\\local\\packages\\pythonsoftwarefoundation.python.3.12_qbz5n2kfra8p0\\localcache\\local-packages\\python312\\site-packages (from huggingface-hub<1.0,>=0.24.0->transformers) (2024.9.0)\n",
      "Requirement already satisfied: typing-extensions>=3.7.4.3 in c:\\users\\blackline\\appdata\\local\\packages\\pythonsoftwarefoundation.python.3.12_qbz5n2kfra8p0\\localcache\\local-packages\\python312\\site-packages (from huggingface-hub<1.0,>=0.24.0->transformers) (4.12.2)\n",
      "Requirement already satisfied: colorama in c:\\users\\blackline\\appdata\\local\\packages\\pythonsoftwarefoundation.python.3.12_qbz5n2kfra8p0\\localcache\\local-packages\\python312\\site-packages (from tqdm>=4.27->transformers) (0.4.6)\n",
      "Requirement already satisfied: charset-normalizer<4,>=2 in c:\\users\\blackline\\appdata\\local\\packages\\pythonsoftwarefoundation.python.3.12_qbz5n2kfra8p0\\localcache\\local-packages\\python312\\site-packages (from requests->transformers) (3.4.1)\n",
      "Requirement already satisfied: idna<4,>=2.5 in c:\\users\\blackline\\appdata\\local\\packages\\pythonsoftwarefoundation.python.3.12_qbz5n2kfra8p0\\localcache\\local-packages\\python312\\site-packages (from requests->transformers) (3.10)\n",
      "Requirement already satisfied: urllib3<3,>=1.21.1 in c:\\users\\blackline\\appdata\\local\\packages\\pythonsoftwarefoundation.python.3.12_qbz5n2kfra8p0\\localcache\\local-packages\\python312\\site-packages (from requests->transformers) (2.3.0)\n",
      "Requirement already satisfied: certifi>=2017.4.17 in c:\\users\\blackline\\appdata\\local\\packages\\pythonsoftwarefoundation.python.3.12_qbz5n2kfra8p0\\localcache\\local-packages\\python312\\site-packages (from requests->transformers) (2024.12.14)\n",
      "Note: you may need to restart the kernel to use updated packages.\n"
     ]
    },
    {
     "name": "stderr",
     "output_type": "stream",
     "text": [
      "Some weights of the model checkpoint at dbmdz/bert-large-cased-finetuned-conll03-english were not used when initializing BertForTokenClassification: ['bert.pooler.dense.bias', 'bert.pooler.dense.weight']\n",
      "- This IS expected if you are initializing BertForTokenClassification from the checkpoint of a model trained on another task or with another architecture (e.g. initializing a BertForSequenceClassification model from a BertForPreTraining model).\n",
      "- This IS NOT expected if you are initializing BertForTokenClassification from the checkpoint of a model that you expect to be exactly identical (initializing a BertForSequenceClassification model from a BertForSequenceClassification model).\n",
      "Device set to use cuda:0\n"
     ]
    }
   ],
   "source": [
    "# Install PyTorch\n",
    "%pip install torch\n",
    "%pip install transformers\n",
    "\n",
    "import torch\n",
    "from transformers import pipeline\n",
    "\n",
    "# Load a pre-trained pipeline for token classification (NER)\n",
    "ner_pipeline = pipeline(\"ner\", model=\"dbmdz/bert-large-cased-finetuned-conll03-english\")\n",
    "\n",
    "def extract_transformer_entities(text):\n",
    "    entities = ner_pipeline(text)\n",
    "    return [(entity['word'], entity['entity']) for entity in entities]\n",
    "\n",
    "df['transformer_entities'] = df['job_description'].apply(extract_transformer_entities)\n"
   ]
  },
  {
   "cell_type": "code",
   "execution_count": 49,
   "metadata": {},
   "outputs": [],
   "source": [
    "def combine_keywords(row):\n",
    "    combined = set(row['rake_keywords']).union(set(row['tfidf_keywords']))\n",
    "    spacy_words = [entity[0] for entity in row['spacy_entities']]\n",
    "    return combined.union(spacy_words)\n",
    "\n",
    "df['final_keywords'] = df.apply(combine_keywords, axis=1)\n"
   ]
  },
  {
   "cell_type": "code",
   "execution_count": 50,
   "metadata": {},
   "outputs": [
    {
     "data": {
      "text/plain": [
       "{'APEX',\n",
       " 'Computer Science, Computer Engineering',\n",
       " 'English',\n",
       " 'Italian',\n",
       " 'Java\\n6/12 months',\n",
       " 'Knowledge of Salesforce',\n",
       " 'Mathematics, Physics',\n",
       " 'Microsoft Azure Ecosystem',\n",
       " 'SQL\\nExcellent',\n",
       " 'Visualforce',\n",
       " 'analytical skills',\n",
       " 'and',\n",
       " 'apex',\n",
       " 'appreciated',\n",
       " 'appreciated knowledge',\n",
       " 'aptitude',\n",
       " 'at least one',\n",
       " 'code communication message broker',\n",
       " 'computer science computer engineering mathematics physics',\n",
       " 'consultancy activities',\n",
       " 'degree',\n",
       " 'development methodologies strong problem solving orientation',\n",
       " 'effective communication curiosity',\n",
       " 'english language interest',\n",
       " 'experience',\n",
       " 'following languages python c java 612 months',\n",
       " 'good',\n",
       " 'good knowledge',\n",
       " 'in',\n",
       " 'is',\n",
       " 'italian language',\n",
       " 'knowledge',\n",
       " 'languages',\n",
       " 'learning new technologies',\n",
       " 'least one',\n",
       " 'microservices architecture principles',\n",
       " 'microsoft azure ecosystem',\n",
       " 'modernly organised company',\n",
       " 'multinational',\n",
       " 'of',\n",
       " 'or',\n",
       " 'proactivity complete',\n",
       " 'profile knowledge',\n",
       " 'rest',\n",
       " 'salesforce',\n",
       " 'similar good knowledge',\n",
       " 'soap apis',\n",
       " 'sql excellent knowledge',\n",
       " 'sw developer',\n",
       " 'the',\n",
       " 'visualforce languages',\n",
       " 'welcome good knowledge'}"
      ]
     },
     "execution_count": 50,
     "metadata": {},
     "output_type": "execute_result"
    }
   ],
   "source": [
    "df['final_keywords'][0]"
   ]
  },
  {
   "cell_type": "code",
   "execution_count": 52,
   "metadata": {},
   "outputs": [
    {
     "name": "stderr",
     "output_type": "stream",
     "text": [
      "[nltk_data] Downloading package stopwords to\n",
      "[nltk_data]     C:\\Users\\BlackLine\\AppData\\Roaming\\nltk_data...\n",
      "[nltk_data]   Package stopwords is already up-to-date!\n",
      "[nltk_data] Downloading package punkt to\n",
      "[nltk_data]     C:\\Users\\BlackLine\\AppData\\Roaming\\nltk_data...\n",
      "[nltk_data]   Package punkt is already up-to-date!\n",
      "[nltk_data] Downloading package punkt_tab to\n",
      "[nltk_data]     C:\\Users\\BlackLine\\AppData\\Roaming\\nltk_data...\n",
      "[nltk_data]   Package punkt_tab is already up-to-date!\n"
     ]
    }
   ],
   "source": [
    "nltk.download('stopwords')\n",
    "nltk.download('punkt')\n",
    "nltk.download('punkt_tab')\n",
    "\n",
    "stop_words = set(stopwords.words('english'))\n",
    "def remove_stopwords(keywords):\n",
    "    return [word for word in keywords if word.lower() not in stop_words]\n",
    "\n",
    "cleaned_keywords = remove_stopwords(df['final_keywords'][0])\n"
   ]
  },
  {
   "cell_type": "code",
   "execution_count": 53,
   "metadata": {},
   "outputs": [
    {
     "data": {
      "text/plain": [
       "['development methodologies strong problem solving orientation',\n",
       " 'appreciated knowledge',\n",
       " 'proactivity complete',\n",
       " 'Knowledge of Salesforce',\n",
       " 'soap apis',\n",
       " 'consultancy activities',\n",
       " 'languages',\n",
       " 'microservices architecture principles',\n",
       " 'Mathematics, Physics',\n",
       " 'Java\\n6/12 months',\n",
       " 'good knowledge',\n",
       " 'sql excellent knowledge',\n",
       " 'analytical skills',\n",
       " 'appreciated',\n",
       " 'SQL\\nExcellent',\n",
       " 'APEX',\n",
       " 'least one',\n",
       " 'following languages python c java 612 months',\n",
       " 'experience',\n",
       " 'learning new technologies',\n",
       " 'Italian',\n",
       " 'similar good knowledge',\n",
       " 'visualforce languages',\n",
       " 'profile knowledge',\n",
       " 'degree',\n",
       " 'aptitude',\n",
       " 'good',\n",
       " 'english language interest',\n",
       " 'modernly organised company',\n",
       " 'apex',\n",
       " 'at least one',\n",
       " 'microsoft azure ecosystem',\n",
       " 'knowledge',\n",
       " 'English',\n",
       " 'code communication message broker',\n",
       " 'italian language',\n",
       " 'effective communication curiosity',\n",
       " 'multinational',\n",
       " 'Visualforce',\n",
       " 'Computer Science, Computer Engineering',\n",
       " 'welcome good knowledge',\n",
       " 'sw developer',\n",
       " 'salesforce',\n",
       " 'rest',\n",
       " 'Microsoft Azure Ecosystem',\n",
       " 'computer science computer engineering mathematics physics']"
      ]
     },
     "execution_count": 53,
     "metadata": {},
     "output_type": "execute_result"
    }
   ],
   "source": [
    "cleaned_keywords"
   ]
  }
 ],
 "metadata": {
  "kernelspec": {
   "display_name": "Python 3",
   "language": "python",
   "name": "python3"
  },
  "language_info": {
   "codemirror_mode": {
    "name": "ipython",
    "version": 3
   },
   "file_extension": ".py",
   "mimetype": "text/x-python",
   "name": "python",
   "nbconvert_exporter": "python",
   "pygments_lexer": "ipython3",
   "version": "3.12.8"
  }
 },
 "nbformat": 4,
 "nbformat_minor": 2
}
