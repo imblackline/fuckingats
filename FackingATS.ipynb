{
 "cells": [
  {
   "cell_type": "code",
   "execution_count": 40,
   "metadata": {},
   "outputs": [],
   "source": [
    "import requests\n",
    "import json\n",
    "import sys\n",
    "import time\n",
    "\n",
    "def query_ollama_stream(keywords):\n",
    "    \"\"\"Interact with the Ollama server using streaming HTTP responses and overwrite output.\"\"\"\n",
    "    url = \"http://localhost:11434/api/chat\"  # Correct endpoint\n",
    "    prompt = f\"\"\"\n",
    "    Here is a list of keywords extracted from a job description:\n",
    "    {', '.join(keywords)}\n",
    "\n",
    "    Please return an array of keywords that represent professional skills or \n",
    "    technologies suitable for inclusion in a resume without any explanation and additonal text.\n",
    "    \"\"\"\n",
    "    payload = {\n",
    "        \"model\": \"llama3.1\",  # Replace with your desired model name\n",
    "        \"messages\": [  # Correct key\n",
    "            {\n",
    "                \"role\": \"user\",\n",
    "                \"content\": prompt\n",
    "            }\n",
    "        ]\n",
    "    }\n",
    "    headers = {\n",
    "        \"Content-Type\": \"application/json\"\n",
    "    }\n",
    "\n",
    "    try:\n",
    "        # Set stream=True to handle streamed responses\n",
    "        with requests.post(url, json=payload, headers=headers, stream=True) as response:\n",
    "            response.raise_for_status()  # Raise an HTTPError for bad responses\n",
    "\n",
    "            full_response = \"\"  # Initialize a variable to store the complete response\n",
    "            for line in response.iter_lines():\n",
    "                if line:  # Skip empty lines\n",
    "                    try:\n",
    "                        # Decode the JSON line\n",
    "                        json_line = json.loads(line.decode(\"utf-8\"))\n",
    "                        # Extract the assistant's content\n",
    "                        content = json_line.get(\"message\", {}).get(\"content\", \"\")\n",
    "                        if content:\n",
    "                            full_response += content  # Append new content\n",
    "                            # # Overwrite the line with the updated response\n",
    "                            # sys.stdout.write(f\"\\r{full_response}\")\n",
    "                            # sys.stdout.flush()\n",
    "                    except json.JSONDecodeError as e:\n",
    "                        print(f\"Error decoding JSON line: {e}\")\n",
    "\n",
    "            print()  # Move to a new line after the response is complete\n",
    "            return full_response\n",
    "    except requests.exceptions.RequestException as e:\n",
    "        raise Exception(f\"Error querying Ollama: {e}\")\n",
    "\n",
    "# Example Usage\n",
    "# if __name__ == \"__main__\":\n",
    "#     prompt = \"Hi\"\n",
    "#     try:\n",
    "#         response = query_ollama_stream(prompt)\n",
    "#         print(\"Final Response:\", response)\n",
    "#     except Exception as e:\n",
    "#         print(f\"Error: {e}\")\n"
   ]
  },
  {
   "cell_type": "code",
   "execution_count": 41,
   "metadata": {},
   "outputs": [],
   "source": [
    "import spacy\n",
    "\n",
    "# Load the spaCy language model\n",
    "nlp = spacy.load('en_core_web_sm')\n",
    "\n",
    "def process_job_description(file_path):\n",
    "    # Step 1: Read the contents of the offer.txt file\n",
    "    with open(file_path, 'r') as file:\n",
    "        job_description = file.read()\n",
    "    \n",
    "    doc = nlp(job_description)\n",
    "    keywords = [token.text for token in doc if token.is_alpha and not token.is_stop]\n",
    "    return set(keywords)\n",
    "    \n",
    "\n"
   ]
  },
  {
   "cell_type": "code",
   "execution_count": 42,
   "metadata": {},
   "outputs": [
    {
     "name": "stdout",
     "output_type": "stream",
     "text": [
      "Extracted Keywords: {'Collaboration', 'REST', 'aptitude', 'ensure', 'innovative', 'office', 'Java', 'Drafting', 'suppliers', 'Computer', 'support', 'SQL', 'Azure', 'solving', 'Developing', 'knowledge', 'Knowledge', 'fields', 'analysts', 'training', 'Engineering', 'Good', 'Developer', 'department', 'code', 'team', 'consultancy', 'message', 'science', 'Axpo', 'organised', 'relevant', 'Excellent', 'Ecosystem', 'new', 'Mathematics', 'Visualforce', 'learning', 'experience', 'carry', 'activities', 'complete', 'Italian', 'success', 'multinational', 'Research', 'release', 'effective', 'job', 'models', 'SOAP', 'orientation', 'optimization', 'area', 'cycle', 'APEX', 'microservices', 'appreciated', 'MuleSoft', 'colleagues', 'technologies', 'Microsoft', 'technical', 'analytical', 'design', 'Implementation', 'opportunity', 'Analysis', 'Communication', 'Italia', 'graduates', 'recent', 'computer', 'Delivery', 'functional', 'business', 'Solution', 'SW', 'process', 'modernly', 'documentation', 'skills', 'communication', 'principles', 'APIs', 'applications', 'Interest', 'Python', 'teams', 'Salesforce', 'problem', 'initial', 'methodologies', 'proactivity', 'custom', 'implemented', 'Technology', 'profile', 'looking', 'Curiosity', 'Requirements', 'period', 'solutions', 'following', 'C', 'good', 'languages', 'similar', 'Degree', 'Information', 'management', 'software', 'join', 'welcome', 'company', 'resource', 'English', 'Management', 'broker', 'Physics', 'Genoa', 'Strong', 'project', 'study', 'architecture', 'development', 'months', 'language', 'external', 'tools', 'Science'}\n",
      "\n"
     ]
    }
   ],
   "source": [
    "# Example usage\n",
    "if __name__ == \"__main__\":\n",
    "    job_description_file = \"offer.txt\"  # Path to your job description file\n",
    "    keywords = process_job_description(job_description_file)\n",
    "    print(f\"Extracted Keywords: {keywords}\")\n",
    "\n",
    "    professional_keywords = query_ollama_stream(keywords)"
   ]
  },
  {
   "cell_type": "code",
   "execution_count": 43,
   "metadata": {},
   "outputs": [
    {
     "data": {
      "text/plain": [
       "'Here is the list of keywords representing professional skills or technologies:\\n\\n1. Collaboration\\n2. REST\\n3. Java\\n4. SQL\\n5. Azure\\n6. APEX\\n7. MuleSoft\\n8. Python\\n9. Salesforce\\n10. SOAP\\n11. APIs\\n12. C\\n13. Visualforce\\n14. SW\\n15. Microsoft\\n16. Java\\n17. REST\\n18. SQL\\n19. APEX\\n20. MuleSoft\\n21. Azure\\n22. Python\\n23. Salesforce\\n24. SOAP\\n25. APIs\\n26. C\\n27. Visualforce\\n28. SW\\n29. Microsoft\\n\\nHowever, to avoid duplication and focus on the most relevant skills, I\\'ll remove duplicates and add some that were missing from the original list:\\n\\n1. Collaboration\\n2. REST\\n3. Java\\n4. SQL\\n5. Azure\\n6. APEX\\n7. MuleSoft\\n8. Python\\n9. Salesforce\\n10. SOAP\\n11. APIs\\n12. C\\n13. Visualforce\\n14. SW\\n15. Microsoft\\n16. XML\\n17. JSON\\n18. HTML\\n19. CSS\\n\\nNote that I\\'ve kept only the most relevant skills and technologies from the original list, excluding words like \"good\", \"excellent\", \"strong\" which are more subjective adjectives.'"
      ]
     },
     "execution_count": 43,
     "metadata": {},
     "output_type": "execute_result"
    }
   ],
   "source": [
    "professional_keywords"
   ]
  }
 ],
 "metadata": {
  "kernelspec": {
   "display_name": "Python 3",
   "language": "python",
   "name": "python3"
  },
  "language_info": {
   "codemirror_mode": {
    "name": "ipython",
    "version": 3
   },
   "file_extension": ".py",
   "mimetype": "text/x-python",
   "name": "python",
   "nbconvert_exporter": "python",
   "pygments_lexer": "ipython3",
   "version": "3.12.8"
  }
 },
 "nbformat": 4,
 "nbformat_minor": 2
}
