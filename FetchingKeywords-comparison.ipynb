{
 "cells": [
  {
   "cell_type": "code",
   "execution_count": 31,
   "metadata": {},
   "outputs": [],
   "source": [
    "import re"
   ]
  },
  {
   "cell_type": "code",
   "execution_count": 43,
   "metadata": {},
   "outputs": [],
   "source": [
    "def extract_skills_from_job_description(file_path, predefined_skills):\n",
    "    # Read the job description from a file\n",
    "    with open(file_path, 'r') as file:\n",
    "        job_description = file.read()\n",
    "\n",
    "    # Normalize job description: lowercase and remove special characters\n",
    "    cleaned_description = re.sub(r'[^\\w\\s]', '', job_description.lower())\n",
    "\n",
    "    # Normalize skills: lowercase for matching\n",
    "    normalized_skills = [skill.lower() for skill in predefined_skills]\n",
    "    # Check for matches using a case-insensitive approach\n",
    "    matched_skills = []\n",
    "    for skill in normalized_skills:\n",
    "        # Use regex to match whole words, ensuring case-insensitivity\n",
    "        if re.search(rf'\\b{re.escape(skill)}\\b', cleaned_description):\n",
    "            matched_skills.append(skill)\n",
    "\n",
    "    return matched_skills"
   ]
  },
  {
   "cell_type": "code",
   "execution_count": 44,
   "metadata": {},
   "outputs": [],
   "source": [
    "predefined_skills = [\n",
    "    # Programming Languages\n",
    "    \"javascript\", \"typescript\", \"python\", \"java\", \"c++\", \"c#\", \"ruby\", \"php\", \"sql\", \"bash\", \"html\", \"css\", \"sass\", \"less\",\n",
    "\n",
    "    # Front-End Frameworks and Libraries\n",
    "    \"react\", \"reactjs\", \"react.js\",\"vuejs\", \"vue\", \"vue.js\", \"HTML5\",\"CSS3\", \"angular\",\"CSS-in-JS\", \"svelte\", \"jquery\", \"bootstrap\", \"tailwindcss\",\n",
    "    \"material-ui\", \"semantic-ui\", \"next.js\", \"nuxt.js\", \"three.js\", \"d3.js\", \"Progressive Web Apps\", \"PWA\", \n",
    "    \"Single Page Applications\", \"SPA\", \"web components\", \"server side rendering\", \"SSR\", \"GSAP\", \"Anime.js\",\n",
    "    \"Chart.js\", \"Data Visualization\",\"Babel\", \"vite\", \"Babel.js\", \"ajax\", \"axios\", \"socket.io\",\"RXJS\",\n",
    "\n",
    "    # Back-End Frameworks and Libraries\n",
    "    \"node.js\",\"nodejs\" \"express\", \"django\", \"flask\", \"ruby on rails\", \"spring\", \"dotnet\", \"laravel\",\n",
    "    \"fastapi\", \"graphql\", \"nestjs\", \"phoenix\", \"gin\",\n",
    "\n",
    "    # State Management\n",
    "    \"redux\", \"mobx\", \"vuex\", \"recoil\", \"zustand\", \"pinia\",\n",
    "\n",
    "    # Testing Frameworks\n",
    "    \"jest\", \"mocha\", \"chai\", \"jasmine\", \"cypress\", \"puppeteer\", \"playwright\", \"karma\", \n",
    "    \"enzyme\", \"pytest\", \"unittest\", \"selenium\",\n",
    "\n",
    "    # Version Control and Collaboration\n",
    "    \"git\", \"github\", \"gitlab\", \"bitbucket\", \"svn\", \"mercurial\",\n",
    "\n",
    "    # Build Tools and Package Managers\n",
    "    \"webpack\", \"parcel\", \"rollup\",\"rollup.js\" \"gulp\", \"grunt\", \"vite\", \"npm\", \"yarn\", \"pnpm\",\n",
    "\n",
    "    # Cloud and DevOps Tools\n",
    "    \"aws\", \"azure\", \"gcp\", \"docker\", \"kubernetes\", \"jenkins\", \"circleci\", \"travisci\",\n",
    "    \"ansible\", \"terraform\", \"chef\", \"puppet\", \"vagrant\",\"Continuous Integration\", \"Continuous Deployment\", \"CI/CD\",\n",
    "\n",
    "    # Databases\n",
    "    \"mysql\", \"postgresql\",\"PostgresSQL\", \"mongodb\", \"redis\", \"sqlite\", \"cassandra\", \"firebase\",\n",
    "    \"elasticsearch\", \"dynamodb\", \"couchdb\", \"SQLServer\", \"SQL Server\", \"NoSQL databases\",\n",
    "\n",
    "    # APIs and Protocols\n",
    "    \"restful apis\", \"rest\",\"soap\", \"graphql\", \"grpc\", \"websockets\", \"oauth\", \"jwt\", \"openapi\", \"json\", \"xml\", \"WebRTC\", \"WebGL\", \"web assembly\",\n",
    "\n",
    "    # UI/UX Design Tools\n",
    "    \"UI/UX design\", \"figma\", \"adobe xd\", \"sketch\", \"invision\", \"zeplin\", \"balsamiq\", \"Photoshop\", \"Illustrator\",\n",
    "\n",
    "    # Mobile Development\n",
    "    \"react native\", \"flutter\", \"ionic\", \"kotlin\", \"objective-c\", \"xamarin\",\n",
    "\n",
    "    # Game Development\n",
    "    \"unity\", \"unreal engine\",\n",
    "\n",
    "    # Content Management Systems\n",
    "    \"wordpress\", \"drupal\", \"joomla\", \"shopify\", \"magento\", \"CMS\",\n",
    "\n",
    "    # Other Tools and Platforms\n",
    "    \"eslint\", \"prettier\", \"babel\", \"postman\", \"swagger\", \"jira\", \"asana\", \"trello\", \n",
    "    \"notion\", \"monday.com\", \"visual studio code\", \"intellij idea\", \"pycharm\", \"eclipse\", \n",
    "    \"atom\", \"sublime text\",\n",
    "\n",
    "    # Machine Learning and AI (Optional for Software Devs)\n",
    "    \"tensorflow\", \"keras\", \"pytorch\", \"scikit-learn\", \"pandas\", \"numpy\", \"opencv\", \"nltk\",\n",
    "\n",
    "    # General Development Concepts\n",
    "    \"agile\", \"scrum\", \"kanban\", \"tdd\", \"bdd\", \"design patterns\", \"microservices\",\n",
    "    \"monorepo\", \"modular architecture\", \"performance optimization\", \"web accessibility\",\n",
    "    \"responsive design\", \"seo\", \"cross-browser compatibility\",\n",
    "\n",
    "    # Web Servers\n",
    "    \"nginx\", \"apache\",\n",
    "\n",
    "    # Security Skills\n",
    "    \"ssl\", \"tls\", \"https\", \"encryption\", \"firewalls\", \"penetration testing\", \"sso\",\n",
    "    \"sast\", \"dast\", \"owasp\",\n",
    "\n",
    "]\n"
   ]
  },
  {
   "cell_type": "code",
   "execution_count": 45,
   "metadata": {},
   "outputs": [],
   "source": [
    "file_path = 'offer.txt'  # Replace with the path to your job description text file\n",
    "matched_skills = extract_skills_from_job_description(file_path, predefined_skills)"
   ]
  },
  {
   "cell_type": "code",
   "execution_count": 46,
   "metadata": {},
   "outputs": [
    {
     "data": {
      "text/plain": [
       "['javascript',\n",
       " 'typescript',\n",
       " 'sql',\n",
       " 'sass',\n",
       " 'react',\n",
       " 'html5',\n",
       " 'css3',\n",
       " 'rxjs',\n",
       " 'rest',\n",
       " 'responsive design',\n",
       " 'seo']"
      ]
     },
     "execution_count": 46,
     "metadata": {},
     "output_type": "execute_result"
    }
   ],
   "source": [
    "matched_skills"
   ]
  }
 ],
 "metadata": {
  "kernelspec": {
   "display_name": "Python 3",
   "language": "python",
   "name": "python3"
  },
  "language_info": {
   "codemirror_mode": {
    "name": "ipython",
    "version": 3
   },
   "file_extension": ".py",
   "mimetype": "text/x-python",
   "name": "python",
   "nbconvert_exporter": "python",
   "pygments_lexer": "ipython3",
   "version": "3.12.8"
  }
 },
 "nbformat": 4,
 "nbformat_minor": 2
}
